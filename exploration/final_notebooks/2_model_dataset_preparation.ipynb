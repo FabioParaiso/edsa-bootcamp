{
 "cells": [
  {
   "cell_type": "markdown",
   "metadata": {},
   "source": [
    "# Bootcamp Project- Product Recommendation\n",
    "\n",
    "Our customer is a multi-national company that works on the health sector. They want to predict what products their\n",
    "customers shall need the most, based on their past purchases but also on other variables that could be interesting\n",
    "(this would be part of your research).\n",
    "\n",
    "**Goal:** Build a recommendation engine to recommend relevant items to a user, based on historical data."
   ]
  },
  {
   "cell_type": "markdown",
   "metadata": {},
   "source": [
    "<a id='toc'></a>\n",
    "\n",
    "### Table of Contents\n",
    "2. [Model dataset preparation](#dataset) <br>\n",
    "    1. [Import required modules](#module_import) <br>\n",
    "    2. [Import datasets](#dataset_import) <br>\n",
    "    3. [Create dataset folds](#prepare_dataset_folds) <br>"
   ]
  },
  {
   "cell_type": "markdown",
   "metadata": {},
   "source": [
    "<a name='dataset'></a>\n",
    "\n",
    "## 2. Model dataset preparation\n",
    "After exploring and cleaning the datasets we need to prepare the datasets to be used in the recommendation engine. <br>\n",
    "This preparation phase will focus on the creation of different folds to allow a cross validation evaluation of the\n",
    "different models."
   ]
  },
  {
   "cell_type": "markdown",
   "metadata": {},
   "source": [
    "<a name='module_import'></a>\n",
    "\n",
    "#### 2.1. Import required modules"
   ]
  },
  {
   "cell_type": "code",
   "execution_count": 1,
   "metadata": {
    "pycharm": {
     "name": "#%%\n"
    }
   },
   "outputs": [
    {
     "name": "stderr",
     "output_type": "stream",
     "text": [
      "/Users/olivefab/.pyenv/versions/bootcamp2/lib/python3.8/site-packages/pandas/compat/__init__.py:124: UserWarning: Could not import the lzma module. Your installed Python is incomplete. Attempting to use lzma compression will result in a RuntimeError.\n",
      "  warnings.warn(msg)\n"
     ]
    }
   ],
   "source": [
    "import pandas as pd\n",
    "\n",
    "from bootcamp.data import ModelData"
   ]
  },
  {
   "cell_type": "markdown",
   "metadata": {},
   "source": [
    "<a name='dataset_import'></a>\n",
    "\n",
    "#### 2.2. Import datasets"
   ]
  },
  {
   "cell_type": "code",
   "execution_count": 2,
   "metadata": {
    "pycharm": {
     "name": "#%%\n"
    }
   },
   "outputs": [],
   "source": [
    "final_full_dataset = pd.read_parquet(\"../../data/clean_datasets/clean_final_dataset.parquet\")"
   ]
  },
  {
   "cell_type": "markdown",
   "metadata": {},
   "source": [
    "<a name='prepare_dataset_folds'></a>\n",
    "\n",
    "#### 2.3. Create dataset folds\n",
    "The creation of the dataset folds is composed of several steps that consist of:\n",
    "1. Create a list of unique clients and items.\n",
    "2. Create an encoding dictionary for clients and items. The objective is to have a uniform list of both clients and\n",
    "items.\n",
    "3. Apply the encoding to the final full dataset.\n",
    "4. Apply the encoding to the unique client and item lists.\n",
    "5. Create the data folds based on the division dictionary (different test months to different folds).\n",
    "6. Save the unique list and fold datasets."
   ]
  },
  {
   "cell_type": "markdown",
   "metadata": {},
   "source": [
    "`Fold preparation`"
   ]
  },
  {
   "cell_type": "code",
   "execution_count": 3,
   "metadata": {
    "pycharm": {
     "name": "#%%\n"
    }
   },
   "outputs": [
    {
     "name": "stderr",
     "output_type": "stream",
     "text": [
      "12/08/2021 15:14:39 - INFO: Getting unique values...\n",
      "12/08/2021 15:14:39 - INFO: Getting unique values...\n",
      "12/08/2021 15:14:39 - INFO: Performing encoding...\n",
      "12/08/2021 15:14:39 - INFO: Performing encoding...\n",
      "12/08/2021 15:14:39 - INFO: Encoding dataframe...\n",
      "12/08/2021 15:14:39 - INFO: Applying encoding...\n",
      "12/08/2021 15:14:40 - INFO: Applying encoding...\n",
      "12/08/2021 15:14:40 - INFO: Encoding list...\n",
      "12/08/2021 15:14:40 - INFO: Encoding list...\n",
      "12/08/2021 15:14:40 - INFO: Creating folds...\n",
      "12/08/2021 15:14:40 - INFO: Dividing datasets by date...\n",
      "12/08/2021 15:14:41 - INFO: Dividing datasets by date...\n",
      "12/08/2021 15:14:42 - INFO: Dividing datasets by date...\n",
      "12/08/2021 15:14:43 - INFO: Saving data...\n",
      "12/08/2021 15:14:43 - INFO: Saving data...\n",
      "12/08/2021 15:14:43 - INFO: Saving data...\n"
     ]
    }
   ],
   "source": [
    "path = '../../data/model_datasets'\n",
    "folds = ModelData(final_full_dataset).run(path)"
   ]
  }
 ],
 "metadata": {
  "kernelspec": {
   "display_name": "Python 3 (ipykernel)",
   "language": "python",
   "name": "python3"
  },
  "language_info": {
   "codemirror_mode": {
    "name": "ipython",
    "version": 3
   },
   "file_extension": ".py",
   "mimetype": "text/x-python",
   "name": "python",
   "nbconvert_exporter": "python",
   "pygments_lexer": "ipython3",
   "version": "3.8.12"
  }
 },
 "nbformat": 4,
 "nbformat_minor": 4
}
